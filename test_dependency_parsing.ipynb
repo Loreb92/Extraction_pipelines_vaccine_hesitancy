{
 "cells": [
  {
   "cell_type": "markdown",
   "metadata": {},
   "source": [
    "### Test dependency parsing\n",
    "\n",
    "In this notebook there is the code to test if the dependency parser works correctly. In the folder test/ there are one file with a sample of sentences and a file with their dependency trees. The test consists in the comparison between the dependency trees obtained from the test sentences with the ones in the file."
   ]
  },
  {
   "cell_type": "code",
   "execution_count": 1,
   "metadata": {},
   "outputs": [
    {
     "name": "stdout",
     "output_type": "stream",
     "text": [
      "Number of test sentences :  479\n",
      "Extracting the dependency trees...\n",
      "Loading test treess...\n",
      "Comaparing dependency trees...\n",
      "\n",
      "Success! All graphs are identical\n"
     ]
    }
   ],
   "source": [
    "# import packages\n",
    "import pandas as pd\n",
    "import pickle\n",
    "import Dependency_tree_functions as DepTree\n",
    "import spacy\n",
    "from nltk import sent_tokenize\n",
    "\n",
    "nlp = spacy.load(\"en_core_web_sm\")\n",
    "\n",
    "# load test sentences\n",
    "sentences_test = pd.read_csv('test/sentences_test.csv')\n",
    "\n",
    "print('Number of test sentences : ', sentences_test.shape[0])\n",
    "print('Extracting the dependency trees...')\n",
    "# get dependency tree for each test sentence\n",
    "trees = []\n",
    "for idx, row in sentences_test.iterrows():\n",
    "    \n",
    "    c_id, sent = row.c_id, row.sentence\n",
    "    \n",
    "    D = DepTree.make_dep_tree(nlp(sent))\n",
    "    trees.append([c_id, sent, D])\n",
    "    \n",
    "# load test trees\n",
    "print('Loading test treess...')\n",
    "trees_test = pickle.load( open( \"test/sentence_trees.p\", \"rb\" ) )\n",
    "flag = True\n",
    "# test if the trees are the same\n",
    "print('Comaparing dependency trees...')\n",
    "print()\n",
    "for sent1, sent2 in zip(trees, trees_test):\n",
    "    \n",
    "    G1, G2 = sent1[-1], sent2[-1]\n",
    "    sent1_, sent2_ = sent1[1], sent2[1]\n",
    "    c_id_1, c_id_2 = sent1[0], sent2[0]\n",
    "    \n",
    "    if c_id_1!=c_id_2 or sent1_!=sent2_:\n",
    "        print('Attention! Mismatch between the sentences of the two files!')\n",
    "        print('Check the order of the sentences')\n",
    "        flag = False\n",
    "        break\n",
    "    \n",
    "    if not DepTree.is_equal_dep_tree(G1, G2):\n",
    "        c_id = c_id_1\n",
    "        print('Found different dependency parsing at comment id : %s'%c_id_1)\n",
    "        flag = False\n",
    "        break\n",
    "        \n",
    "if flag:\n",
    "    print('Success! All graphs are identical')    "
   ]
  },
  {
   "cell_type": "code",
   "execution_count": null,
   "metadata": {},
   "outputs": [],
   "source": []
  }
 ],
 "metadata": {
  "kernelspec": {
   "display_name": "Python3 base_clone",
   "language": "python",
   "name": "base_clone"
  },
  "language_info": {
   "codemirror_mode": {
    "name": "ipython",
    "version": 3
   },
   "file_extension": ".py",
   "mimetype": "text/x-python",
   "name": "python",
   "nbconvert_exporter": "python",
   "pygments_lexer": "ipython3",
   "version": "3.7.4"
  }
 },
 "nbformat": 4,
 "nbformat_minor": 2
}
